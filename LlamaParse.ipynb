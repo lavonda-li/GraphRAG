{
 "cells": [
  {
   "cell_type": "code",
   "execution_count": null,
   "metadata": {},
   "outputs": [],
   "source": [
    "pip install llama-cloud-services"
   ]
  },
  {
   "cell_type": "code",
   "execution_count": 5,
   "metadata": {},
   "outputs": [
    {
     "name": "stdout",
     "output_type": "stream",
     "text": [
      "Total PDFs found: 33\n",
      "First 5 PDF files (for verification):\n",
      "/Users/lavonda/Documents/RAG/fulldata/Aorta-follow-up.pdf\n",
      "/Users/lavonda/Documents/RAG/fulldata/HCM.pdf\n",
      "/Users/lavonda/Documents/RAG/fulldata/Tricuspid-Regurgitation-Focused-Imaging.pdf\n",
      "/Users/lavonda/Documents/RAG/fulldata/Pericardiocentesis-follow-up.pdf\n",
      "/Users/lavonda/Documents/RAG/fulldata/AV-Optimization.pdf\n"
     ]
    }
   ],
   "source": [
    "import os\n",
    "\n",
    "# Define folder path\n",
    "folder_path = \"/Users/lavonda/Documents/RAG/fulldata\"\n",
    "\n",
    "# List all PDF files in the folder\n",
    "pdf_files = [os.path.join(folder_path, file) for file in os.listdir(folder_path) if file.endswith(\".pdf\")]\n",
    "\n",
    "# Print the list of PDF files to verify they are loaded correctly\n",
    "print(f\"Total PDFs found: {len(pdf_files)}\")\n",
    "print(\"First 5 PDF files (for verification):\")\n",
    "for file in pdf_files[:5]:  # Print only the first 5 files to avoid clutter\n",
    "    print(file)\n",
    "\n",
    "# Uncomment below line to print all files if needed\n",
    "# print(\"\\n\".join(pdf_files))"
   ]
  },
  {
   "cell_type": "code",
   "execution_count": null,
   "metadata": {},
   "outputs": [
    {
     "name": "stderr",
     "output_type": "stream",
     "text": [
      "Parsing files: 100%|██████████| 33/33 [02:43<00:00,  4.95s/it]"
     ]
    },
    {
     "name": "stdout",
     "output_type": "stream",
     "text": [
      "Extracted text saved to output_text.txt\n",
      "Extracted text preview:\n",
      "# PROTOCOL: AORTA FOLLOW-UP\n",
      "\n",
      "# Inclusion Criteria\n",
      "\n",
      "- Adult echocardiogram ordered to assess aortic size\n",
      "- Full echocardiogram performed within two years\n",
      "\n",
      "# EIMS Data\n",
      "\n",
      "Procedure Components: 2-D, Color Flow Doppler, Doppler\n",
      "\n",
      "Serial Studies: General, Thoracic Aorta\n",
      "\n",
      "First Impression: Echocardiogram performed per aorta follow-up protocol.\n",
      "\n",
      "Billing Diagnosis: Aneurysm Thoracic Aortic without (or with) Rupture (HCC)\n",
      "\n",
      "Procedure: (TTE) 2D Limited and Color\n",
      "\n",
      "With quantification: 2D Limited with Color and\n"
     ]
    },
    {
     "name": "stderr",
     "output_type": "stream",
     "text": [
      "\n"
     ]
    }
   ],
   "source": [
    "import nest_asyncio\n",
    "from llama_cloud_services import LlamaParse\n",
    "\n",
    "# Required for async execution in Jupyter\n",
    "nest_asyncio.apply()\n",
    "\n",
    "# Initialize LlamaParse\n",
    "parser = LlamaParse(\n",
    "    api_key=\"llx-G4oRBcZxAiUCXjEybYupleTAmzdsRk0uIIpx0x4oyhyOEZpX\",  # Set API key\n",
    "    result_type=\"markdown\",  # \"markdown\" or \"text\"\n",
    "    num_workers=4,  # Optimize for batch processing\n",
    "    verbose=True,\n",
    "    language=\"en\"  # Set language (default=\"en\")\n",
    ")\n",
    "\n",
    "# Load all PDFs synchronously\n",
    "documents = parser.load_data(pdf_files)\n",
    "\n",
    "# Save all extracted text into output_text.txt\n",
    "with open(\"output_text.txt\", \"w\", encoding=\"utf-8\") as f:\n",
    "    for doc in documents:\n",
    "        f.write(doc.text + \"\\n\\n---\\n\\n\")  # Separate each document with a line\n",
    "print(\"Extracted text saved to output_text.txt\")\n",
    "\n",
    "\n",
    "# Print the first document's extracted text as an example\n",
    "print(\"Extracted text preview:\")\n",
    "print(documents[0].text[:500])  # Show first 500 characters of the first document"
   ]
  }
 ],
 "metadata": {
  "kernelspec": {
   "display_name": "Python 3",
   "language": "python",
   "name": "python3"
  },
  "language_info": {
   "codemirror_mode": {
    "name": "ipython",
    "version": 3
   },
   "file_extension": ".py",
   "mimetype": "text/x-python",
   "name": "python",
   "nbconvert_exporter": "python",
   "pygments_lexer": "ipython3",
   "version": "3.12.8"
  }
 },
 "nbformat": 4,
 "nbformat_minor": 2
}
