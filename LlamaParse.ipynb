{
 "cells": [
  {
   "cell_type": "code",
   "execution_count": null,
   "metadata": {},
   "outputs": [],
   "source": [
    "pip install llama-cloud-services"
   ]
  },
  {
   "cell_type": "code",
   "execution_count": 10,
   "metadata": {},
   "outputs": [
    {
     "name": "stdout",
     "output_type": "stream",
     "text": [
      "Total PDFs found: 33\n",
      "First 5 PDF files (for verification):\n",
      "/Users/lavonda/Documents/RAG/fulldata/Aorta-follow-up.pdf\n",
      "/Users/lavonda/Documents/RAG/fulldata/HCM.pdf\n",
      "/Users/lavonda/Documents/RAG/fulldata/Tricuspid-Regurgitation-Focused-Imaging.pdf\n",
      "/Users/lavonda/Documents/RAG/fulldata/Pericardiocentesis-follow-up.pdf\n",
      "/Users/lavonda/Documents/RAG/fulldata/AV-Optimization.pdf\n"
     ]
    }
   ],
   "source": [
    "import os\n",
    "\n",
    "# Define folder path\n",
    "folder_path = \"/Users/lavonda/Documents/RAG/fulldata\"\n",
    "\n",
    "# List all PDF files in the folder\n",
    "pdf_files = [os.path.join(folder_path, file) for file in os.listdir(folder_path) if file.endswith(\".pdf\")]\n",
    "\n",
    "# Print the list of PDF files to verify they are loaded correctly\n",
    "print(f\"Total PDFs found: {len(pdf_files)}\")\n",
    "print(\"First 5 PDF files (for verification):\")\n",
    "for file in pdf_files[:5]:  # Print only the first 5 files to avoid clutter\n",
    "    print(file)\n",
    "\n",
    "# Uncomment below line to print all files if needed\n",
    "# print(\"\\n\".join(pdf_files))"
   ]
  },
  {
   "cell_type": "code",
   "execution_count": 13,
   "metadata": {},
   "outputs": [
    {
     "name": "stderr",
     "output_type": "stream",
     "text": [
      "Parsing files:   0%|          | 0/33 [00:00<?, ?it/s]"
     ]
    },
    {
     "name": "stdout",
     "output_type": "stream",
     "text": [
      "Started parsing the file under job_id b759a0f7-7c15-457f-a587-204cf9eebed4\n",
      "Started parsing the file under job_id be740fc8-7e28-4127-bb0c-a93d9c6da7be\n",
      "Started parsing the file under job_id 5fd51c64-3cf4-48e7-9ee0-d14b0f3c057e\n",
      "Started parsing the file under job_id 92911310-0749-489b-8ab5-1d4c7cc12969\n"
     ]
    },
    {
     "name": "stderr",
     "output_type": "stream",
     "text": [
      "Parsing files:   3%|▎         | 1/33 [00:16<08:36, 16.14s/it]"
     ]
    },
    {
     "name": "stdout",
     "output_type": "stream",
     "text": [
      "Started parsing the file under job_id 92e09e42-b85b-4751-bbb4-f46c49f09af9\n"
     ]
    },
    {
     "name": "stderr",
     "output_type": "stream",
     "text": [
      "Parsing files:   6%|▌         | 2/33 [00:18<04:06,  7.94s/it]"
     ]
    },
    {
     "name": "stdout",
     "output_type": "stream",
     "text": [
      "Started parsing the file under job_id eab04c46-5c4f-4444-88c2-7fb13aaa8feb\n"
     ]
    },
    {
     "name": "stderr",
     "output_type": "stream",
     "text": [
      "Parsing files:   9%|▉         | 3/33 [00:24<03:40,  7.35s/it]"
     ]
    },
    {
     "name": "stdout",
     "output_type": "stream",
     "text": [
      "Started parsing the file under job_id 847da0f2-eb9d-42fc-9fb7-7ae6a167fe6b\n"
     ]
    },
    {
     "name": "stderr",
     "output_type": "stream",
     "text": [
      "Parsing files:  12%|█▏        | 4/33 [00:31<03:23,  7.03s/it]"
     ]
    },
    {
     "name": "stdout",
     "output_type": "stream",
     "text": [
      "Started parsing the file under job_id b53645ea-ea90-499d-ad72-b5b9766696cf\n"
     ]
    },
    {
     "name": "stderr",
     "output_type": "stream",
     "text": [
      "Parsing files:  15%|█▌        | 5/33 [00:37<03:09,  6.77s/it]"
     ]
    },
    {
     "name": "stdout",
     "output_type": "stream",
     "text": [
      "Started parsing the file under job_id 59967a0d-62a5-4fae-9a2f-f84b3f802ee0\n",
      "Started parsing the file under job_id 74770bb8-4842-4399-803e-1fa7fdc27e17\n"
     ]
    },
    {
     "name": "stderr",
     "output_type": "stream",
     "text": [
      "Parsing files:  21%|██        | 7/33 [00:42<01:59,  4.59s/it]"
     ]
    },
    {
     "name": "stdout",
     "output_type": "stream",
     "text": [
      "Started parsing the file under job_id 45fc74de-f94d-4797-a1ea-213714dd9f22\n"
     ]
    },
    {
     "name": "stderr",
     "output_type": "stream",
     "text": [
      "Parsing files:  24%|██▍       | 8/33 [00:47<01:54,  4.60s/it]"
     ]
    },
    {
     "name": "stdout",
     "output_type": "stream",
     "text": [
      "Started parsing the file under job_id d7a590b0-0674-49fd-a3f9-b2b31af57caf\n"
     ]
    },
    {
     "name": "stderr",
     "output_type": "stream",
     "text": [
      "Parsing files:  27%|██▋       | 9/33 [00:48<01:29,  3.71s/it]"
     ]
    },
    {
     "name": "stdout",
     "output_type": "stream",
     "text": [
      "Started parsing the file under job_id a8c2b74c-0164-4307-8f0e-5e384b1cf5cc\n"
     ]
    },
    {
     "name": "stderr",
     "output_type": "stream",
     "text": [
      "Parsing files:  30%|███       | 10/33 [00:52<01:27,  3.83s/it]"
     ]
    },
    {
     "name": "stdout",
     "output_type": "stream",
     "text": [
      "Started parsing the file under job_id 7ae21d72-fa81-41d2-a661-7561e7e7e660\n"
     ]
    },
    {
     "name": "stderr",
     "output_type": "stream",
     "text": [
      "Parsing files:  33%|███▎      | 11/33 [00:58<01:35,  4.36s/it]"
     ]
    },
    {
     "name": "stdout",
     "output_type": "stream",
     "text": [
      "Started parsing the file under job_id 93db83e6-2c74-4271-98b7-6ff5cd4d886f\n"
     ]
    },
    {
     "name": "stderr",
     "output_type": "stream",
     "text": [
      "Parsing files:  36%|███▋      | 12/33 [01:01<01:23,  3.98s/it]"
     ]
    },
    {
     "name": "stdout",
     "output_type": "stream",
     "text": [
      "Started parsing the file under job_id ef8e6f66-4bc7-407b-b778-a28be422eca0\n"
     ]
    },
    {
     "name": "stderr",
     "output_type": "stream",
     "text": [
      "Parsing files:  39%|███▉      | 13/33 [01:05<01:21,  4.06s/it]"
     ]
    },
    {
     "name": "stdout",
     "output_type": "stream",
     "text": [
      "Started parsing the file under job_id 45be5358-5edf-4b15-816e-0ec44f300b84\n"
     ]
    },
    {
     "name": "stderr",
     "output_type": "stream",
     "text": [
      "Parsing files:  42%|████▏     | 14/33 [01:06<00:59,  3.13s/it]"
     ]
    },
    {
     "name": "stdout",
     "output_type": "stream",
     "text": [
      "Started parsing the file under job_id d9691041-5b11-4818-949d-cabd49edcb1f\n"
     ]
    },
    {
     "name": "stderr",
     "output_type": "stream",
     "text": [
      "Parsing files:  45%|████▌     | 15/33 [01:12<01:07,  3.74s/it]"
     ]
    },
    {
     "name": "stdout",
     "output_type": "stream",
     "text": [
      "Started parsing the file under job_id 1cac6b86-e05f-4e41-a2a4-516701578e76\n"
     ]
    },
    {
     "name": "stderr",
     "output_type": "stream",
     "text": [
      "Parsing files:  48%|████▊     | 16/33 [01:16<01:09,  4.10s/it]"
     ]
    },
    {
     "name": "stdout",
     "output_type": "stream",
     "text": [
      "Started parsing the file under job_id daa2736e-3124-40bd-b755-62567cae564b\n"
     ]
    },
    {
     "name": "stderr",
     "output_type": "stream",
     "text": [
      "Parsing files:  52%|█████▏    | 17/33 [01:18<00:55,  3.44s/it]"
     ]
    },
    {
     "name": "stdout",
     "output_type": "stream",
     "text": [
      "Started parsing the file under job_id 8bc17db9-3bd9-4915-bb40-2da61d00c91d\n"
     ]
    },
    {
     "name": "stderr",
     "output_type": "stream",
     "text": [
      "Parsing files:  55%|█████▍    | 18/33 [01:19<00:39,  2.65s/it]"
     ]
    },
    {
     "name": "stdout",
     "output_type": "stream",
     "text": [
      "Started parsing the file under job_id a4b30b06-fa13-4697-99ba-49de0273a4e0\n"
     ]
    },
    {
     "name": "stderr",
     "output_type": "stream",
     "text": [
      "Parsing files:  61%|██████    | 20/33 [01:29<00:45,  3.54s/it]"
     ]
    },
    {
     "name": "stdout",
     "output_type": "stream",
     "text": [
      "Started parsing the file under job_id 86e1bf8d-50e6-45e8-8cb9-52761124c4f8\n",
      "Started parsing the file under job_id 8589754b-963b-46c9-83a0-b377bb84451d\n"
     ]
    },
    {
     "name": "stderr",
     "output_type": "stream",
     "text": [
      "Parsing files:  64%|██████▎   | 21/33 [01:30<00:33,  2.76s/it]"
     ]
    },
    {
     "name": "stdout",
     "output_type": "stream",
     "text": [
      "Started parsing the file under job_id 53a02f8b-5498-49cb-abfc-cd5909761164\n"
     ]
    },
    {
     "name": "stderr",
     "output_type": "stream",
     "text": [
      "Parsing files:  67%|██████▋   | 22/33 [01:32<00:27,  2.53s/it]"
     ]
    },
    {
     "name": "stdout",
     "output_type": "stream",
     "text": [
      "Started parsing the file under job_id f6ecc0fb-747e-4555-9d08-c76c8143d89a\n"
     ]
    },
    {
     "name": "stderr",
     "output_type": "stream",
     "text": [
      "Parsing files:  70%|██████▉   | 23/33 [01:38<00:36,  3.70s/it]"
     ]
    },
    {
     "name": "stdout",
     "output_type": "stream",
     "text": [
      "Started parsing the file under job_id 9ae10ce2-6554-4ec6-b83a-3a3721e5d95b\n"
     ]
    },
    {
     "name": "stderr",
     "output_type": "stream",
     "text": [
      "Parsing files:  73%|███████▎  | 24/33 [01:40<00:26,  2.99s/it]"
     ]
    },
    {
     "name": "stdout",
     "output_type": "stream",
     "text": [
      "Started parsing the file under job_id 2f298206-4a60-42ee-9871-bd53354cb8cc\n"
     ]
    },
    {
     "name": "stderr",
     "output_type": "stream",
     "text": [
      "Parsing files:  76%|███████▌  | 25/33 [01:42<00:21,  2.73s/it]"
     ]
    },
    {
     "name": "stdout",
     "output_type": "stream",
     "text": [
      "Started parsing the file under job_id 34f16bd1-76ad-49aa-b5b2-d6832de3c936\n"
     ]
    },
    {
     "name": "stderr",
     "output_type": "stream",
     "text": [
      "Parsing files:  79%|███████▉  | 26/33 [01:43<00:15,  2.22s/it]"
     ]
    },
    {
     "name": "stdout",
     "output_type": "stream",
     "text": [
      "Started parsing the file under job_id 35e84666-11a1-4d7f-8c0a-b55e97267286\n"
     ]
    },
    {
     "name": "stderr",
     "output_type": "stream",
     "text": [
      "Parsing files:  85%|████████▍ | 28/33 [01:51<00:14,  2.92s/it]"
     ]
    },
    {
     "name": "stdout",
     "output_type": "stream",
     "text": [
      "Started parsing the file under job_id 243cc4ef-b808-446f-a354-01a41b581d88\n"
     ]
    },
    {
     "name": "stderr",
     "output_type": "stream",
     "text": [
      "Parsing files:  88%|████████▊ | 29/33 [01:54<00:11,  2.79s/it]"
     ]
    },
    {
     "name": "stdout",
     "output_type": "stream",
     "text": [
      "Started parsing the file under job_id 8702bbf6-83b9-4174-a46c-38a5c8ba3c19\n",
      "Started parsing the file under job_id 0395e609-a0fd-4a1a-8ebf-dc9de6022243\n"
     ]
    },
    {
     "name": "stderr",
     "output_type": "stream",
     "text": [
      "Parsing files: 100%|██████████| 33/33 [02:06<00:00,  3.84s/it]"
     ]
    },
    {
     "name": "stdout",
     "output_type": "stream",
     "text": [
      "Extracted JSON data saved to output_data.json\n",
      "Extracted JSON preview:\n",
      "{\n",
      "    \"pages\": [\n",
      "        {\n",
      "            \"page\": 1,\n",
      "            \"text\": \"PROTOCOL: AORTA FOLLOW-UP\\n\\nInclusion Criteria\\n    \\u2022   Adult echocardiogram ordered to assess aortic size\\n    \\u2022   Full echocardiogram performed within two years\\nEIMS Data\\nProcedure Components: 2-D, Color Flow Doppler, Doppler\\nSerial Studies: General, Thoracic Aorta\\nFirst Impression: Echocardiogram performed per aorta follow-up protocol.\\nBilling Diagnosis: Aneurysm Thoracic Aortic without (or with) Rupture (H\n"
     ]
    },
    {
     "name": "stderr",
     "output_type": "stream",
     "text": [
      "\n"
     ]
    }
   ],
   "source": [
    "import nest_asyncio\n",
    "import json\n",
    "from llama_cloud_services import LlamaParse\n",
    "\n",
    "\n",
    "# Required for async execution in Jupyter\n",
    "nest_asyncio.apply()\n",
    "\n",
    "# Initialize LlamaParse with JSON output\n",
    "parser = LlamaParse(\n",
    "    api_key=\"llx-G4oRBcZxAiUCXjEybYupleTAmzdsRk0uIIpx0x4oyhyOEZpX\",  # Set API key\n",
    "    result_type=\"json\",  # Change to JSON format\n",
    "    output_raw_json=True,  # Ensures JSON structure is preserved\n",
    "    num_workers=4,  # Optimize for batch processing\n",
    "    verbose=True,\n",
    "    premium_mode=True,  \n",
    "    language=\"en\"  # Set language (default=\"en\")\n",
    ")\n",
    "\n",
    "# Load all PDFs synchronously\n",
    "json_data = parser.get_json_result(pdf_files)\n",
    "\n",
    "# Save as JSON file\n",
    "with open(\"output_data.json\", \"w\", encoding=\"utf-8\") as f:\n",
    "    json.dump(json_data, f, indent=4)  # Pretty print JSON\n",
    "\n",
    "print(\"Extracted JSON data saved to output_data.json\")\n",
    "\n",
    "# Print a preview of the first document's JSON\n",
    "print(\"Extracted JSON preview:\")\n",
    "print(json.dumps(json_data[0], indent=4)[:500])  # Show first 500 characters"
   ]
  }
 ],
 "metadata": {
  "kernelspec": {
   "display_name": "Python 3",
   "language": "python",
   "name": "python3"
  },
  "language_info": {
   "codemirror_mode": {
    "name": "ipython",
    "version": 3
   },
   "file_extension": ".py",
   "mimetype": "text/x-python",
   "name": "python",
   "nbconvert_exporter": "python",
   "pygments_lexer": "ipython3",
   "version": "3.12.8"
  }
 },
 "nbformat": 4,
 "nbformat_minor": 2
}
